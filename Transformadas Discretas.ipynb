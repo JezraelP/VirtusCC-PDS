{
 "cells": [
  {
   "cell_type": "markdown",
   "id": "ebe16478",
   "metadata": {},
   "source": [
    "# Transformadas discretas\n",
    "\n",
    "<p align=\"center\">\n",
    "  <img src=\"Imagens/logo_virtus2.png\" width=\"300\"/>\n",
    "</p>"
   ]
  },
  {
   "cell_type": "markdown",
   "id": "c42126db",
   "metadata": {},
   "source": [
    "# Sumário\n",
    "\n",
    "1. [Trasnformada de Fourier discreta (DFT)](#dft)\n",
    "\n",
    "    1.1 [Convoluções linear e circular](#lincirc)\n",
    "\n",
    "    1.2 [Método de Sobreposição e Soma](#soma)\n",
    "    \n",
    "    1.3 [Método de Sobreposição e Armazenamento](#armazenamento)"
   ]
  },
  {
   "cell_type": "markdown",
   "id": "22ab18f4",
   "metadata": {},
   "source": [
    "## 1. Tranformada de Fourier discreta (DFT)\n",
    "\n",
    "A tranformada de Fourier discreta é caracterizada como sendo o processo de amostragem da transmforada de fourier, periódica em $2\\pi$ tomando-se N amostras uniformemente espaçadas entre 0 e $2\\pi$. Utilizando as frequências $\\omega _k = (2\\pi /N) k, \\quad k \\in \\mathbb{Z}$, tal que:\n",
    "\n",
    "$$\n",
    "X'(e^{j\\omega}) = X(e^{j\\omega}) \\sum_{k=-\\infty}^{\\infty} \\delta\\left(\\omega - \\frac{2\\pi}{N}k\\right) \\tag{1}\n",
    "$$\n",
    "\n",
    "Aplicando o teorema da convolução e a transformada inversa às amostras obtidas, nós podemos relacionar o sinal $x(t)$cuja transformada de Fourier é $X(j\\omega)$ com o sinal $x'(t)$ obtido a partir da amostragem o espectro do sinal de $x(t)$ de tamanho L da seguinte forma:\n",
    "\n",
    "$$\n",
    "x'(n) = x(n) * \\frac{N}{2\\pi} \\sum_{p=-\\infty}^{\\infty} \\delta(n - Np) = \\frac{N}{2\\pi} \\sum_{p=-\\infty}^{\\infty} x(n - Np) \\tag{2}\n",
    "$$\n",
    "\n",
    "Essa equação mostra que o sinal $x'(t)$ é composto por repetições periódicas do sinal discreto original $x(n)$, em que o período é dado por $N$. Logo, o sinal só pode er recuperado se seu tamanho $L\\leq N$\n",
    "\n",
    "Podemos recuperar o sinal discreto original a partir das amostras de seu espectro pela relação:\n",
    "\n",
    "$$\n",
    "x(n) = \\frac{1}{N} \\sum_{k=0}^{N-1} X\\left(e^{j\\left(\\frac{2\\pi}{N}\\right)k}\\right) e^{j\\left(\\frac{2\\pi}{N}\\right)kn}, \\quad \\text{para } 0 \\leq n \\leq N - 1. \\tag{3}\n",
    "$$\n",
    "\n",
    "Esssa relação é conhecida como Tranformada de Fourier Discreta Inversa (IDFT)\n",
    "\n",
    "Se definirmos $W_N = e^{-j2\\pi /N}$,as definições da DFT e da IDFT se tornam:\n",
    "\n",
    "$$\n",
    "X(k) = \\sum_{n=0}^{N-1} x(n)\\, W_N^{kn}, \\quad \\text{para } 0 \\leq k \\leq N - 1. \\tag{4}\n",
    "$$\n",
    "\n",
    "$$\n",
    "x(n) = \\frac{1}{N} \\sum_{k=0}^{N-1} X(k)\\, W_N^{-kn}, \\quad \\text{para } 0 \\leq n \\leq N - 1. \\tag{5}\n",
    "$$\n",
    "\n",
    "em que tanto $x(n)$ como $X(k)$ são periódicas com período N"
   ]
  },
  {
   "cell_type": "markdown",
   "id": "13669cc0",
   "metadata": {},
   "source": [
    "### Convoluções linear e circular\n",
    "\n"
   ]
  }
 ],
 "metadata": {
  "language_info": {
   "name": "python"
  }
 },
 "nbformat": 4,
 "nbformat_minor": 5
}
